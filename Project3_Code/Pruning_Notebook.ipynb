{
  "nbformat": 4,
  "nbformat_minor": 0,
  "metadata": {
    "colab": {
      "name": "Pruning_Notebook.ipynb",
      "provenance": []
    },
    "kernelspec": {
      "name": "python3",
      "display_name": "Python 3"
    }
  },
  "cells": [
    {
      "cell_type": "markdown",
      "metadata": {
        "id": "y857PTAC_WGj",
        "colab_type": "text"
      },
      "source": [
        "ECE209 AS AI/ML on Chip Winter 2020\n",
        "Bryan Bednarski and Matt Nicholas\n",
        "\n",
        "See direction for using this notebook at the following repo:\n",
        "https://github.com/bbednarski9/AIonchip_winter2020_P2-3_Repo\n"
      ]
    },
    {
      "cell_type": "code",
      "metadata": {
        "id": "tL6tKe1Yrnx0",
        "colab_type": "code",
        "colab": {}
      },
      "source": [
        "# Run this code block to increase ram to 25GB, takes ~30sec to crash\n",
        "a = []\n",
        "while(1):\n",
        "    a.append(1)"
      ],
      "execution_count": 0,
      "outputs": []
    },
    {
      "cell_type": "code",
      "metadata": {
        "id": "zqJBV8qsXTVC",
        "colab_type": "code",
        "colab": {}
      },
      "source": [
        "# install Tensorflow, will need to run this each time the runtime gets reset\n",
        "!pip install tensorboardX"
      ],
      "execution_count": 0,
      "outputs": []
    },
    {
      "cell_type": "code",
      "metadata": {
        "id": "xTlsyKrbMWw5",
        "colab_type": "code",
        "colab": {}
      },
      "source": [
        "# import dependenceies\n",
        "import os\n",
        "import random\n",
        "import numpy as np\n",
        "import tqdm\n",
        "random.seed(42)"
      ],
      "execution_count": 0,
      "outputs": []
    },
    {
      "cell_type": "code",
      "metadata": {
        "id": "dE7eR6zSNDDw",
        "colab_type": "code",
        "colab": {}
      },
      "source": [
        "# check python version, bash commands\n",
        "%%bash\n",
        "python --version"
      ],
      "execution_count": 0,
      "outputs": []
    },
    {
      "cell_type": "code",
      "metadata": {
        "id": "_FrEn9TbIt07",
        "colab_type": "code",
        "colab": {}
      },
      "source": [
        "# check CUDA version, make sure runtime is conencted to GPU before this\n",
        "# Edit > Notebook Settings > GPU\n",
        "!nvcc --version"
      ],
      "execution_count": 0,
      "outputs": []
    },
    {
      "cell_type": "code",
      "metadata": {
        "id": "Kszm1jtMIUWB",
        "colab_type": "code",
        "colab": {}
      },
      "source": [
        "# Checks GPU version and status of compute device\n",
        "gpu_info = !nvidia-smi\n",
        "gpu_info = '\\n'.join(gpu_info)\n",
        "if gpu_info.find('failed') >= 0:\n",
        "  print('Select the Runtime → \"Change runtime type\" menu to enable a GPU accelerator, ')\n",
        "  print('and then re-execute this cell.')\n",
        "else:\n",
        "  print(gpu_info)"
      ],
      "execution_count": 0,
      "outputs": []
    },
    {
      "cell_type": "code",
      "metadata": {
        "id": "EDaruK3yV1ZF",
        "colab_type": "code",
        "colab": {}
      },
      "source": [
        "# Mount your google drive\n",
        "from google.colab import drive\n",
        "drive.mount('/content/gdrive', force_remount=True)"
      ],
      "execution_count": 0,
      "outputs": []
    },
    {
      "cell_type": "code",
      "metadata": {
        "id": "NGwZv_V0Wnoi",
        "colab_type": "code",
        "colab": {}
      },
      "source": [
        "# print current directory, and change to pascal_voc/data top level\n",
        "!pwd\n",
        "# this is an example below, feel free to change\n",
        "%cd '/content/gdrive/My Drive/209AS_AIML/pascal_voc/data'"
      ],
      "execution_count": 0,
      "outputs": []
    },
    {
      "cell_type": "code",
      "metadata": {
        "id": "o_7E-ZJcc-pK",
        "colab_type": "code",
        "colab": {}
      },
      "source": [
        "# Run voc_label only once to generate image paths and correct annotations for the network\n",
        "!python voc_label.py"
      ],
      "execution_count": 0,
      "outputs": []
    },
    {
      "cell_type": "code",
      "metadata": {
        "id": "CKJpWzLDJT5-",
        "colab_type": "code",
        "colab": {}
      },
      "source": [
        "!pwd\n",
        "%cd '/content/gdrive/My Drive/209AS_AIML/pascal_voc'"
      ],
      "execution_count": 0,
      "outputs": []
    },
    {
      "cell_type": "code",
      "metadata": {
        "id": "C3ux6zmH7hqe",
        "colab_type": "code",
        "colab": {}
      },
      "source": [
        "# Verify files are up to date. Each time we change 'mode.py' or 'prune_utils.py'\n",
        "# this can be run again to make sure file load goes through\n",
        "!ls -l"
      ],
      "execution_count": 0,
      "outputs": []
    },
    {
      "cell_type": "markdown",
      "metadata": {
        "id": "oedIK65zwboR",
        "colab_type": "text"
      },
      "source": [
        "# Training Yolo-V3\n",
        "With whatever pruning funciton is uncommented. See repository for details on changing between threshold and percentage-based methods."
      ]
    },
    {
      "cell_type": "code",
      "metadata": {
        "id": "jiBPxjdiwf5N",
        "colab_type": "code",
        "colab": {}
      },
      "source": [
        "!python3 main.py train --load weights/model_27.pth --name=voc --gpu True"
      ],
      "execution_count": 0,
      "outputs": []
    },
    {
      "cell_type": "markdown",
      "metadata": {
        "id": "1TIWr3yc_JcN",
        "colab_type": "text"
      },
      "source": [
        "# Evaluating Yolo-V3 Inference Accuracy\n",
        "Can download pretrained weights from repo and insert to evaluate without training"
      ]
    },
    {
      "cell_type": "code",
      "metadata": {
        "id": "1RHxm5_BukZe",
        "colab_type": "code",
        "colab": {}
      },
      "source": [
        "!python3 main.py eval --load weights/model_28.pth --name=voc --gpu True"
      ],
      "execution_count": 0,
      "outputs": []
    }
  ]
}